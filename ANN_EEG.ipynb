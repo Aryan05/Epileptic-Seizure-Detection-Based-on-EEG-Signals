{
 "cells": [
  {
   "cell_type": "markdown",
   "metadata": {},
   "source": [
    "# Epileptic seizure detection from EEG signals using Deep Learning\n",
    "  \n",
    "  "
   ]
  },
  {
   "cell_type": "code",
   "execution_count": 1,
   "metadata": {},
   "outputs": [
    {
     "name": "stderr",
     "output_type": "stream",
     "text": [
      "Using TensorFlow backend.\n"
     ]
    }
   ],
   "source": [
    "import tensorflow as tf\n",
    "import numpy as np\n",
    "from keras.models import Sequential\n",
    "from keras.utils import np_utils\n",
    "from keras.layers import Dense, Activation\n",
    "import pandas as pd\n",
    "\n",
    "import matplotlib.pyplot as plt"
   ]
  },
  {
   "cell_type": "markdown",
   "metadata": {},
   "source": [
    "# Data Preprocessing"
   ]
  },
  {
   "cell_type": "code",
   "execution_count": 2,
   "metadata": {},
   "outputs": [
    {
     "data": {
      "text/html": [
       "<div>\n",
       "<style scoped>\n",
       "    .dataframe tbody tr th:only-of-type {\n",
       "        vertical-align: middle;\n",
       "    }\n",
       "\n",
       "    .dataframe tbody tr th {\n",
       "        vertical-align: top;\n",
       "    }\n",
       "\n",
       "    .dataframe thead th {\n",
       "        text-align: right;\n",
       "    }\n",
       "</style>\n",
       "<table border=\"1\" class=\"dataframe\">\n",
       "  <thead>\n",
       "    <tr style=\"text-align: right;\">\n",
       "      <th></th>\n",
       "      <th>Unnamed: 0</th>\n",
       "      <th>X1</th>\n",
       "      <th>X2</th>\n",
       "      <th>X3</th>\n",
       "      <th>X4</th>\n",
       "      <th>X5</th>\n",
       "      <th>X6</th>\n",
       "      <th>X7</th>\n",
       "      <th>X8</th>\n",
       "      <th>X9</th>\n",
       "      <th>...</th>\n",
       "      <th>X170</th>\n",
       "      <th>X171</th>\n",
       "      <th>X172</th>\n",
       "      <th>X173</th>\n",
       "      <th>X174</th>\n",
       "      <th>X175</th>\n",
       "      <th>X176</th>\n",
       "      <th>X177</th>\n",
       "      <th>X178</th>\n",
       "      <th>y</th>\n",
       "    </tr>\n",
       "  </thead>\n",
       "  <tbody>\n",
       "    <tr>\n",
       "      <th>0</th>\n",
       "      <td>X21.V1.791</td>\n",
       "      <td>135</td>\n",
       "      <td>190</td>\n",
       "      <td>229</td>\n",
       "      <td>223</td>\n",
       "      <td>192</td>\n",
       "      <td>125</td>\n",
       "      <td>55</td>\n",
       "      <td>-9</td>\n",
       "      <td>-33</td>\n",
       "      <td>...</td>\n",
       "      <td>-17</td>\n",
       "      <td>-15</td>\n",
       "      <td>-31</td>\n",
       "      <td>-77</td>\n",
       "      <td>-103</td>\n",
       "      <td>-127</td>\n",
       "      <td>-116</td>\n",
       "      <td>-83</td>\n",
       "      <td>-51</td>\n",
       "      <td>4</td>\n",
       "    </tr>\n",
       "    <tr>\n",
       "      <th>1</th>\n",
       "      <td>X15.V1.924</td>\n",
       "      <td>386</td>\n",
       "      <td>382</td>\n",
       "      <td>356</td>\n",
       "      <td>331</td>\n",
       "      <td>320</td>\n",
       "      <td>315</td>\n",
       "      <td>307</td>\n",
       "      <td>272</td>\n",
       "      <td>244</td>\n",
       "      <td>...</td>\n",
       "      <td>164</td>\n",
       "      <td>150</td>\n",
       "      <td>146</td>\n",
       "      <td>152</td>\n",
       "      <td>157</td>\n",
       "      <td>156</td>\n",
       "      <td>154</td>\n",
       "      <td>143</td>\n",
       "      <td>129</td>\n",
       "      <td>1</td>\n",
       "    </tr>\n",
       "    <tr>\n",
       "      <th>2</th>\n",
       "      <td>X8.V1.1</td>\n",
       "      <td>-32</td>\n",
       "      <td>-39</td>\n",
       "      <td>-47</td>\n",
       "      <td>-37</td>\n",
       "      <td>-32</td>\n",
       "      <td>-36</td>\n",
       "      <td>-57</td>\n",
       "      <td>-73</td>\n",
       "      <td>-85</td>\n",
       "      <td>...</td>\n",
       "      <td>57</td>\n",
       "      <td>64</td>\n",
       "      <td>48</td>\n",
       "      <td>19</td>\n",
       "      <td>-12</td>\n",
       "      <td>-30</td>\n",
       "      <td>-35</td>\n",
       "      <td>-35</td>\n",
       "      <td>-36</td>\n",
       "      <td>5</td>\n",
       "    </tr>\n",
       "    <tr>\n",
       "      <th>3</th>\n",
       "      <td>X16.V1.60</td>\n",
       "      <td>-105</td>\n",
       "      <td>-101</td>\n",
       "      <td>-96</td>\n",
       "      <td>-92</td>\n",
       "      <td>-89</td>\n",
       "      <td>-95</td>\n",
       "      <td>-102</td>\n",
       "      <td>-100</td>\n",
       "      <td>-87</td>\n",
       "      <td>...</td>\n",
       "      <td>-82</td>\n",
       "      <td>-81</td>\n",
       "      <td>-80</td>\n",
       "      <td>-77</td>\n",
       "      <td>-85</td>\n",
       "      <td>-77</td>\n",
       "      <td>-72</td>\n",
       "      <td>-69</td>\n",
       "      <td>-65</td>\n",
       "      <td>5</td>\n",
       "    </tr>\n",
       "    <tr>\n",
       "      <th>4</th>\n",
       "      <td>X20.V1.54</td>\n",
       "      <td>-9</td>\n",
       "      <td>-65</td>\n",
       "      <td>-98</td>\n",
       "      <td>-102</td>\n",
       "      <td>-78</td>\n",
       "      <td>-48</td>\n",
       "      <td>-16</td>\n",
       "      <td>0</td>\n",
       "      <td>-21</td>\n",
       "      <td>...</td>\n",
       "      <td>4</td>\n",
       "      <td>2</td>\n",
       "      <td>-12</td>\n",
       "      <td>-32</td>\n",
       "      <td>-41</td>\n",
       "      <td>-65</td>\n",
       "      <td>-83</td>\n",
       "      <td>-89</td>\n",
       "      <td>-73</td>\n",
       "      <td>5</td>\n",
       "    </tr>\n",
       "  </tbody>\n",
       "</table>\n",
       "<p>5 rows × 180 columns</p>\n",
       "</div>"
      ],
      "text/plain": [
       "   Unnamed: 0   X1   X2   X3   X4   X5   X6   X7   X8   X9 ...  X170  X171  \\\n",
       "0  X21.V1.791  135  190  229  223  192  125   55   -9  -33 ...   -17   -15   \n",
       "1  X15.V1.924  386  382  356  331  320  315  307  272  244 ...   164   150   \n",
       "2     X8.V1.1  -32  -39  -47  -37  -32  -36  -57  -73  -85 ...    57    64   \n",
       "3   X16.V1.60 -105 -101  -96  -92  -89  -95 -102 -100  -87 ...   -82   -81   \n",
       "4   X20.V1.54   -9  -65  -98 -102  -78  -48  -16    0  -21 ...     4     2   \n",
       "\n",
       "   X172  X173  X174  X175  X176  X177  X178  y  \n",
       "0   -31   -77  -103  -127  -116   -83   -51  4  \n",
       "1   146   152   157   156   154   143   129  1  \n",
       "2    48    19   -12   -30   -35   -35   -36  5  \n",
       "3   -80   -77   -85   -77   -72   -69   -65  5  \n",
       "4   -12   -32   -41   -65   -83   -89   -73  5  \n",
       "\n",
       "[5 rows x 180 columns]"
      ]
     },
     "execution_count": 2,
     "metadata": {},
     "output_type": "execute_result"
    }
   ],
   "source": [
    "df=pd.read_csv('data.csv')\n",
    "df.head()"
   ]
  },
  {
   "cell_type": "code",
   "execution_count": 3,
   "metadata": {},
   "outputs": [],
   "source": [
    "X=df.values"
   ]
  },
  {
   "cell_type": "code",
   "execution_count": 4,
   "metadata": {},
   "outputs": [],
   "source": [
    "X=X[:,1:-1]\n"
   ]
  },
  {
   "cell_type": "code",
   "execution_count": 5,
   "metadata": {},
   "outputs": [],
   "source": [
    "from sklearn.model_selection import train_test_split\n",
    "\n",
    "\n",
    "y=np.array(df['y'])\n",
    "Y=np_utils.to_categorical(y)\n",
    "Y.shape\n",
    "X_train, X_test, Y_train, Y_test = train_test_split(X, Y, test_size=0.20, random_state=1)"
   ]
  },
  {
   "cell_type": "code",
   "execution_count": 6,
   "metadata": {},
   "outputs": [
    {
     "name": "stdout",
     "output_type": "stream",
     "text": [
      "(11500, 178) (11500,)\n"
     ]
    }
   ],
   "source": [
    "print(X.shape,y.shape)"
   ]
  },
  {
   "cell_type": "markdown",
   "metadata": {},
   "source": [
    "# Intuition of the Epileptical Signal In the Dataset "
   ]
  },
  {
   "cell_type": "code",
   "execution_count": 7,
   "metadata": {},
   "outputs": [
    {
     "data": {
      "image/png": "[encoded data removed]",
      "text/plain": [
       "<Figure size 864x576 with 1 Axes>"
      ]
     },
     "metadata": {
      "needs_background": "light"
     },
     "output_type": "display_data"
    }
   ],
   "source": [
    "plt.figure(figsize=(12,8))\n",
    "plt.plot(X[1,:],label='1')\n",
    "plt.plot(X[7,:],label='2')\n",
    "plt.plot(X[12,:],label='3')\n",
    "plt.plot(X[0,:],label='4')\n",
    "plt.plot(X[2,:],label='5')\n",
    "plt.legend()\n",
    "plt.show()"
   ]
  },
  {
   "cell_type": "markdown",
   "metadata": {},
   "source": [
    "# Creating Artifitial Neural Net Model For the Classification "
   ]
  },
  {
   "cell_type": "code",
   "execution_count": 8,
   "metadata": {},
   "outputs": [
    {
     "name": "stdout",
     "output_type": "stream",
     "text": [
      "_________________________________________________________________\n",
      "Layer (type)                 Output Shape              Param #   \n",
      "=================================================================\n",
      "dense_1 (Dense)              (None, 256)               11776     \n",
      "_________________________________________________________________\n",
      "activation_1 (Activation)    (None, 256)               0         \n",
      "_________________________________________________________________\n",
      "dense_2 (Dense)              (None, 128)               32896     \n",
      "_________________________________________________________________\n",
      "activation_2 (Activation)    (None, 128)               0         \n",
      "_________________________________________________________________\n",
      "dense_3 (Dense)              (None, 128)               16512     \n",
      "_________________________________________________________________\n",
      "activation_3 (Activation)    (None, 128)               0         \n",
      "_________________________________________________________________\n",
      "dense_4 (Dense)              (None, 64)                8256      \n",
      "_________________________________________________________________\n",
      "activation_4 (Activation)    (None, 64)                0         \n",
      "_________________________________________________________________\n",
      "dense_5 (Dense)              (None, 32)                2080      \n",
      "_________________________________________________________________\n",
      "activation_5 (Activation)    (None, 32)                0         \n",
      "_________________________________________________________________\n",
      "dense_6 (Dense)              (None, 32)                1056      \n",
      "_________________________________________________________________\n",
      "activation_6 (Activation)    (None, 32)                0         \n",
      "_________________________________________________________________\n",
      "dense_7 (Dense)              (None, 32)                1056      \n",
      "_________________________________________________________________\n",
      "activation_7 (Activation)    (None, 32)                0         \n",
      "_________________________________________________________________\n",
      "dense_8 (Dense)              (None, 16)                528       \n",
      "_________________________________________________________________\n",
      "activation_8 (Activation)    (None, 16)                0         \n",
      "_________________________________________________________________\n",
      "dense_9 (Dense)              (None, 16)                272       \n",
      "_________________________________________________________________\n",
      "activation_9 (Activation)    (None, 16)                0         \n",
      "_________________________________________________________________\n",
      "dense_10 (Dense)             (None, 8)                 136       \n",
      "_________________________________________________________________\n",
      "activation_10 (Activation)   (None, 8)                 0         \n",
      "_________________________________________________________________\n",
      "dense_11 (Dense)             (None, 5)                 45        \n",
      "_________________________________________________________________\n",
      "activation_11 (Activation)   (None, 5)                 0         \n",
      "=================================================================\n",
      "Total params: 74,613\n",
      "Trainable params: 74,613\n",
      "Non-trainable params: 0\n",
      "_________________________________________________________________\n"
     ]
    }
   ],
   "source": [
    "model=Sequential()\n",
    "\n",
    "\n",
    "model.add(Dense(256,input_shape=(45,)))\n",
    "model.add(Activation('relu'))\n",
    "model.add(Dense(128))\n",
    "model.add(Activation('relu'))\n",
    "model.add(Dense(128))\n",
    "model.add(Activation('relu'))\n",
    "model.add(Dense(64))\n",
    "model.add(Activation('relu'))\n",
    "model.add(Dense(32))\n",
    "model.add(Activation('relu'))\n",
    "model.add(Dense(32))\n",
    "model.add(Activation('relu'))\n",
    "model.add(Dense(32))\n",
    "model.add(Activation('relu'))\n",
    "model.add(Dense(16))\n",
    "model.add(Activation('relu'))\n",
    "model.add(Dense(16))\n",
    "model.add(Activation('relu'))\n",
    "model.add(Dense(8))\n",
    "model.add(Activation('relu'))\n",
    "model.add(Dense(5))\n",
    "model.add(Activation('softmax'))\n",
    "model.summary()"
   ]
  },
  {
   "cell_type": "code",
   "execution_count": 9,
   "metadata": {},
   "outputs": [],
   "source": [
    "model.compile(optimizer='adam',loss='binary_crossentropy',metrics=['accuracy'])\n"
   ]
  },
  {
   "cell_type": "code",
   "execution_count": 10,
   "metadata": {
    "scrolled": true
   },
   "outputs": [
    {
     "name": "stdout",
     "output_type": "stream",
     "text": [
      "Train on 9200 samples, validate on 2300 samples\n",
      "Epoch 1/100\n",
      " - 3s - loss: 0.3875 - acc: 0.8335 - val_loss: 0.3735 - val_acc: 0.8323\n",
      "Epoch 2/100\n",
      " - 2s - loss: 0.3299 - acc: 0.8489 - val_loss: 0.3124 - val_acc: 0.8479\n",
      "Epoch 3/100\n",
      " - 2s - loss: 0.2606 - acc: 0.8709 - val_loss: 0.2627 - val_acc: 0.8627\n",
      "Epoch 4/100\n",
      " - 2s - loss: 0.2306 - acc: 0.8812 - val_loss: 0.2530 - val_acc: 0.8630\n",
      "Epoch 5/100\n",
      " - 2s - loss: 0.2168 - acc: 0.8876 - val_loss: 0.2731 - val_acc: 0.8650\n",
      "Epoch 6/100\n",
      " - 2s - loss: 0.2080 - acc: 0.8916 - val_loss: 0.2851 - val_acc: 0.8590\n",
      "Epoch 7/100\n",
      " - 2s - loss: 0.1951 - acc: 0.8980 - val_loss: 0.2661 - val_acc: 0.8690\n",
      "Epoch 8/100\n",
      " - 2s - loss: 0.1829 - acc: 0.9039 - val_loss: 0.2904 - val_acc: 0.8700\n",
      "Epoch 9/100\n",
      " - 2s - loss: 0.1746 - acc: 0.9083 - val_loss: 0.3244 - val_acc: 0.8618\n",
      "Epoch 10/100\n",
      " - 2s - loss: 0.1667 - acc: 0.9118 - val_loss: 0.2947 - val_acc: 0.8710\n",
      "Epoch 11/100\n",
      " - 2s - loss: 0.1598 - acc: 0.9148 - val_loss: 0.2985 - val_acc: 0.8739\n",
      "Epoch 12/100\n",
      " - 2s - loss: 0.1506 - acc: 0.9209 - val_loss: 0.3013 - val_acc: 0.8757\n",
      "Epoch 13/100\n",
      " - 2s - loss: 0.1489 - acc: 0.9215 - val_loss: 0.3144 - val_acc: 0.8683\n",
      "Epoch 14/100\n",
      " - 2s - loss: 0.1365 - acc: 0.9277 - val_loss: 0.3396 - val_acc: 0.8780\n",
      "Epoch 15/100\n",
      " - 2s - loss: 0.1352 - acc: 0.9324 - val_loss: 0.3179 - val_acc: 0.8791\n",
      "Epoch 16/100\n",
      " - 2s - loss: 0.1302 - acc: 0.9354 - val_loss: 0.3204 - val_acc: 0.8783\n",
      "Epoch 17/100\n",
      " - 2s - loss: 0.1256 - acc: 0.9400 - val_loss: 0.3200 - val_acc: 0.8852\n",
      "Epoch 18/100\n",
      " - 2s - loss: 0.1168 - acc: 0.9458 - val_loss: 0.3572 - val_acc: 0.8842\n",
      "Epoch 19/100\n",
      " - 2s - loss: 0.1112 - acc: 0.9510 - val_loss: 0.3759 - val_acc: 0.8844\n",
      "Epoch 20/100\n",
      " - 2s - loss: 0.1045 - acc: 0.9536 - val_loss: 0.3709 - val_acc: 0.8795\n",
      "Epoch 21/100\n",
      " - 2s - loss: 0.1005 - acc: 0.9568 - val_loss: 0.4078 - val_acc: 0.8811\n",
      "Epoch 22/100\n",
      " - 2s - loss: 0.0928 - acc: 0.9613 - val_loss: 0.3339 - val_acc: 0.8823\n",
      "Epoch 23/100\n",
      " - 2s - loss: 0.0851 - acc: 0.9651 - val_loss: 0.3883 - val_acc: 0.8864\n",
      "Epoch 24/100\n",
      " - 2s - loss: 0.0805 - acc: 0.9688 - val_loss: 0.3972 - val_acc: 0.8880\n",
      "Epoch 25/100\n",
      " - 2s - loss: 0.0714 - acc: 0.9717 - val_loss: 0.3806 - val_acc: 0.8919\n",
      "Epoch 26/100\n",
      " - 2s - loss: 0.0760 - acc: 0.9709 - val_loss: 0.4271 - val_acc: 0.8783\n",
      "Epoch 27/100\n",
      " - 2s - loss: 0.0624 - acc: 0.9762 - val_loss: 0.4352 - val_acc: 0.8881\n",
      "Epoch 28/100\n",
      " - 2s - loss: 0.0578 - acc: 0.9768 - val_loss: 0.4296 - val_acc: 0.8871\n",
      "Epoch 29/100\n",
      " - 2s - loss: 0.0622 - acc: 0.9763 - val_loss: 0.3884 - val_acc: 0.8874\n",
      "Epoch 30/100\n",
      " - 2s - loss: 0.0529 - acc: 0.9799 - val_loss: 0.4520 - val_acc: 0.8896\n",
      "Epoch 31/100\n",
      " - 2s - loss: 0.0608 - acc: 0.9791 - val_loss: 0.4126 - val_acc: 0.8906\n",
      "Epoch 32/100\n",
      " - 2s - loss: 0.0524 - acc: 0.9817 - val_loss: 0.4390 - val_acc: 0.8873\n",
      "Epoch 33/100\n",
      " - 2s - loss: 0.0469 - acc: 0.9834 - val_loss: 0.4449 - val_acc: 0.8881\n",
      "Epoch 34/100\n",
      " - 2s - loss: 0.0438 - acc: 0.9851 - val_loss: 0.4458 - val_acc: 0.8892\n",
      "Epoch 35/100\n",
      " - 2s - loss: 0.0398 - acc: 0.9863 - val_loss: 0.4552 - val_acc: 0.8875\n",
      "Epoch 36/100\n",
      " - 2s - loss: 0.0486 - acc: 0.9830 - val_loss: 0.4358 - val_acc: 0.8869\n",
      "Epoch 37/100\n",
      " - 2s - loss: 0.0414 - acc: 0.9858 - val_loss: 0.3994 - val_acc: 0.8870\n",
      "Epoch 38/100\n",
      " - 2s - loss: 0.0356 - acc: 0.9884 - val_loss: 0.4836 - val_acc: 0.8885\n",
      "Epoch 39/100\n",
      " - 2s - loss: 0.0405 - acc: 0.9860 - val_loss: 0.4080 - val_acc: 0.8893\n",
      "Epoch 40/100\n",
      " - 2s - loss: 0.0318 - acc: 0.9892 - val_loss: 0.5195 - val_acc: 0.8918\n",
      "Epoch 41/100\n",
      " - 2s - loss: 0.0403 - acc: 0.9862 - val_loss: 0.4485 - val_acc: 0.8890\n",
      "Epoch 42/100\n",
      " - 2s - loss: 0.0300 - acc: 0.9899 - val_loss: 0.4879 - val_acc: 0.8860\n",
      "Epoch 43/100\n",
      " - 2s - loss: 0.0286 - acc: 0.9907 - val_loss: 0.4912 - val_acc: 0.8892\n",
      "Epoch 44/100\n",
      " - 2s - loss: 0.0266 - acc: 0.9913 - val_loss: 0.4913 - val_acc: 0.8893\n",
      "Epoch 45/100\n",
      " - 2s - loss: 0.0322 - acc: 0.9895 - val_loss: 0.4841 - val_acc: 0.8885\n",
      "Epoch 46/100\n",
      " - 2s - loss: 0.0287 - acc: 0.9902 - val_loss: 0.4668 - val_acc: 0.8927\n",
      "Epoch 47/100\n",
      " - 2s - loss: 0.0289 - acc: 0.9905 - val_loss: 0.4555 - val_acc: 0.8836\n",
      "Epoch 48/100\n",
      " - 2s - loss: 0.0329 - acc: 0.9893 - val_loss: 0.4049 - val_acc: 0.8894\n",
      "Epoch 49/100\n",
      " - 2s - loss: 0.0282 - acc: 0.9905 - val_loss: 0.4844 - val_acc: 0.8877\n",
      "Epoch 50/100\n",
      " - 2s - loss: 0.0194 - acc: 0.9940 - val_loss: 0.5461 - val_acc: 0.8906\n",
      "Epoch 51/100\n",
      " - 2s - loss: 0.0253 - acc: 0.9921 - val_loss: 0.6216 - val_acc: 0.8850\n",
      "Epoch 52/100\n",
      " - 2s - loss: 0.0392 - acc: 0.9881 - val_loss: 0.5152 - val_acc: 0.8922\n",
      "Epoch 53/100\n",
      " - 2s - loss: 0.0318 - acc: 0.9902 - val_loss: 0.4435 - val_acc: 0.8929\n",
      "Epoch 54/100\n",
      " - 2s - loss: 0.0270 - acc: 0.9915 - val_loss: 0.3915 - val_acc: 0.8914\n",
      "Epoch 55/100\n",
      " - 2s - loss: 0.0193 - acc: 0.9937 - val_loss: 0.4941 - val_acc: 0.8908\n",
      "Epoch 56/100\n",
      " - 2s - loss: 0.0176 - acc: 0.9943 - val_loss: 0.5435 - val_acc: 0.8946\n",
      "Epoch 57/100\n",
      " - 2s - loss: 0.0263 - acc: 0.9917 - val_loss: 0.4733 - val_acc: 0.8900\n",
      "Epoch 58/100\n",
      " - 2s - loss: 0.0242 - acc: 0.9914 - val_loss: 0.5015 - val_acc: 0.8928\n",
      "Epoch 59/100\n",
      " - 2s - loss: 0.0167 - acc: 0.9951 - val_loss: 0.5649 - val_acc: 0.8932\n",
      "Epoch 60/100\n",
      " - 2s - loss: 0.0350 - acc: 0.9891 - val_loss: 0.4666 - val_acc: 0.8914\n",
      "Epoch 61/100\n",
      " - 2s - loss: 0.0204 - acc: 0.9937 - val_loss: 0.6010 - val_acc: 0.8881\n",
      "Epoch 62/100\n",
      " - 2s - loss: 0.0218 - acc: 0.9928 - val_loss: 0.5429 - val_acc: 0.8901\n",
      "Epoch 63/100\n",
      " - 2s - loss: 0.0174 - acc: 0.9949 - val_loss: 0.5062 - val_acc: 0.8905\n",
      "Epoch 64/100\n",
      " - 2s - loss: 0.0195 - acc: 0.9936 - val_loss: 0.5727 - val_acc: 0.8917\n",
      "Epoch 65/100\n",
      " - 2s - loss: 0.0155 - acc: 0.9950 - val_loss: 0.5617 - val_acc: 0.8913\n",
      "Epoch 66/100\n",
      " - 2s - loss: 0.0216 - acc: 0.9931 - val_loss: 0.5122 - val_acc: 0.8884\n",
      "Epoch 67/100\n",
      " - 2s - loss: 0.0200 - acc: 0.9933 - val_loss: 0.4625 - val_acc: 0.8912\n",
      "Epoch 68/100\n",
      " - 2s - loss: 0.0215 - acc: 0.9930 - val_loss: 0.4952 - val_acc: 0.8897\n",
      "Epoch 69/100\n",
      " - 2s - loss: 0.0198 - acc: 0.9940 - val_loss: 0.5357 - val_acc: 0.8923\n",
      "Epoch 70/100\n",
      " - 2s - loss: 0.0178 - acc: 0.9942 - val_loss: 0.5536 - val_acc: 0.8885\n",
      "Epoch 71/100\n",
      " - 2s - loss: 0.0155 - acc: 0.9953 - val_loss: 0.5428 - val_acc: 0.8857\n",
      "Epoch 72/100\n",
      " - 2s - loss: 0.0234 - acc: 0.9926 - val_loss: 0.5206 - val_acc: 0.8954\n",
      "Epoch 73/100\n",
      " - 2s - loss: 0.0149 - acc: 0.9956 - val_loss: 0.6341 - val_acc: 0.8929\n",
      "Epoch 74/100\n",
      " - 2s - loss: 0.0217 - acc: 0.9929 - val_loss: 0.5183 - val_acc: 0.8928\n",
      "Epoch 75/100\n",
      " - 2s - loss: 0.0135 - acc: 0.9954 - val_loss: 0.6802 - val_acc: 0.8908\n",
      "Epoch 76/100\n",
      " - 2s - loss: 0.0132 - acc: 0.9954 - val_loss: 0.6668 - val_acc: 0.8907\n",
      "Epoch 77/100\n",
      " - 2s - loss: 0.0161 - acc: 0.9950 - val_loss: 0.5509 - val_acc: 0.8924\n",
      "Epoch 78/100\n",
      " - 2s - loss: 0.0166 - acc: 0.9950 - val_loss: 0.6150 - val_acc: 0.8927\n",
      "Epoch 79/100\n",
      " - 2s - loss: 0.0150 - acc: 0.9953 - val_loss: 0.5993 - val_acc: 0.8932\n",
      "Epoch 80/100\n",
      " - 2s - loss: 0.0169 - acc: 0.9945 - val_loss: 0.5711 - val_acc: 0.8932\n",
      "Epoch 81/100\n",
      " - 2s - loss: 0.0139 - acc: 0.9960 - val_loss: 0.6038 - val_acc: 0.8917\n",
      "Epoch 82/100\n",
      " - 2s - loss: 0.0186 - acc: 0.9948 - val_loss: 0.5279 - val_acc: 0.8853\n",
      "Epoch 83/100\n",
      " - 2s - loss: 0.0185 - acc: 0.9944 - val_loss: 0.6989 - val_acc: 0.8931\n",
      "Epoch 84/100\n",
      " - 2s - loss: 0.0170 - acc: 0.9953 - val_loss: 0.5401 - val_acc: 0.8935\n",
      "Epoch 85/100\n",
      " - 2s - loss: 0.0129 - acc: 0.9954 - val_loss: 0.5520 - val_acc: 0.8937\n",
      "Epoch 86/100\n",
      " - 2s - loss: 0.0089 - acc: 0.9974 - val_loss: 0.6681 - val_acc: 0.8894\n",
      "Epoch 87/100\n",
      " - 2s - loss: 0.0217 - acc: 0.9937 - val_loss: 0.4911 - val_acc: 0.8923\n",
      "Epoch 88/100\n",
      " - 2s - loss: 0.0185 - acc: 0.9941 - val_loss: 0.5638 - val_acc: 0.8873\n",
      "Epoch 89/100\n",
      " - 2s - loss: 0.0132 - acc: 0.9963 - val_loss: 0.6573 - val_acc: 0.8933\n",
      "Epoch 90/100\n",
      " - 2s - loss: 0.0135 - acc: 0.9959 - val_loss: 0.5771 - val_acc: 0.8879\n",
      "Epoch 91/100\n",
      " - 2s - loss: 0.0127 - acc: 0.9961 - val_loss: 0.5578 - val_acc: 0.8920\n",
      "Epoch 92/100\n",
      " - 2s - loss: 0.0127 - acc: 0.9965 - val_loss: 0.5963 - val_acc: 0.8934\n",
      "Epoch 93/100\n",
      " - 2s - loss: 0.0163 - acc: 0.9951 - val_loss: 0.5411 - val_acc: 0.8959\n",
      "Epoch 94/100\n",
      " - 2s - loss: 0.0160 - acc: 0.9955 - val_loss: 0.5866 - val_acc: 0.8930\n",
      "Epoch 95/100\n",
      " - 2s - loss: 0.0091 - acc: 0.9972 - val_loss: 0.7125 - val_acc: 0.8921\n",
      "Epoch 96/100\n",
      " - 2s - loss: 0.0123 - acc: 0.9963 - val_loss: 0.6279 - val_acc: 0.8910\n"
     ]
    },
    {
     "name": "stdout",
     "output_type": "stream",
     "text": [
      "Epoch 97/100\n",
      " - 2s - loss: 0.0157 - acc: 0.9949 - val_loss: 0.6183 - val_acc: 0.8898\n",
      "Epoch 98/100\n",
      " - 2s - loss: 0.0157 - acc: 0.9954 - val_loss: 0.5372 - val_acc: 0.8943\n",
      "Epoch 99/100\n",
      " - 2s - loss: 0.0080 - acc: 0.9973 - val_loss: 0.6947 - val_acc: 0.8896\n",
      "Epoch 100/100\n",
      " - 2s - loss: 0.0154 - acc: 0.9957 - val_loss: 0.6004 - val_acc: 0.8914\n"
     ]
    },
    {
     "data": {
      "text/plain": [
       "<keras.callbacks.History at 0x11cb4df28>"
      ]
     },
     "execution_count": 10,
     "metadata": {},
     "output_type": "execute_result"
    }
   ],
   "source": [
    "model.fit(((X_train[:,::4]-X_train.mean())/X_train.std()),Y_train[:,1:],10,100,verbose=2,validation_data=((X_test[:,::4]-X_test.mean())/X_test.std(),Y_test[:,1:]))"
   ]
  },
  {
   "cell_type": "markdown",
   "metadata": {},
   "source": [
    "# Accuracy on Validation Set"
   ]
  },
  {
   "cell_type": "code",
   "execution_count": 11,
   "metadata": {},
   "outputs": [
    {
     "data": {
      "text/plain": [
       "(2300, 5)"
      ]
     },
     "execution_count": 11,
     "metadata": {},
     "output_type": "execute_result"
    }
   ],
   "source": [
    "ypred=model.predict((X_test[:,::4]-X_test.mean())/X_test.std())\n",
    "ypred.shape"
   ]
  },
  {
   "cell_type": "code",
   "execution_count": 12,
   "metadata": {},
   "outputs": [],
   "source": [
    "yp=np.zeros((Y_test.shape[0]))\n",
    "yo=np.ones((Y_test.shape[0]))"
   ]
  },
  {
   "cell_type": "code",
   "execution_count": 13,
   "metadata": {},
   "outputs": [],
   "source": [
    "for i in range(Y_test.shape[0]):\n",
    "    yp[i]=np.argmax(ypred[i])+1\n",
    "    yo[i]=np.argmax(Y_test[i])"
   ]
  },
  {
   "cell_type": "code",
   "execution_count": 14,
   "metadata": {},
   "outputs": [
    {
     "data": {
      "text/plain": [
       "(2300,)"
      ]
     },
     "execution_count": 14,
     "metadata": {},
     "output_type": "execute_result"
    }
   ],
   "source": [
    "yp.shape"
   ]
  },
  {
   "cell_type": "code",
   "execution_count": 15,
   "metadata": {},
   "outputs": [
    {
     "data": {
      "text/plain": [
       "(2300,)"
      ]
     },
     "execution_count": 15,
     "metadata": {},
     "output_type": "execute_result"
    }
   ],
   "source": [
    "yo.shape"
   ]
  },
  {
   "cell_type": "code",
   "execution_count": 16,
   "metadata": {},
   "outputs": [
    {
     "data": {
      "text/plain": [
       "array([1., 2., 3., 4., 5.])"
      ]
     },
     "execution_count": 16,
     "metadata": {},
     "output_type": "execute_result"
    }
   ],
   "source": [
    "np.unique(yo)"
   ]
  },
  {
   "cell_type": "code",
   "execution_count": 17,
   "metadata": {},
   "outputs": [
    {
     "data": {
      "text/plain": [
       "array([0., 1.], dtype=float32)"
      ]
     },
     "execution_count": 17,
     "metadata": {},
     "output_type": "execute_result"
    }
   ],
   "source": [
    "np.unique(Y_test)"
   ]
  },
  {
   "cell_type": "code",
   "execution_count": 18,
   "metadata": {},
   "outputs": [
    {
     "data": {
      "text/plain": [
       "array([1., 2., 3., 4., 5.])"
      ]
     },
     "execution_count": 18,
     "metadata": {},
     "output_type": "execute_result"
    }
   ],
   "source": [
    "np.unique(yp)"
   ]
  },
  {
   "cell_type": "code",
   "execution_count": 19,
   "metadata": {},
   "outputs": [
    {
     "data": {
      "text/plain": [
       "(2300,)"
      ]
     },
     "execution_count": 19,
     "metadata": {},
     "output_type": "execute_result"
    }
   ],
   "source": [
    "yo.shape"
   ]
  },
  {
   "cell_type": "code",
   "execution_count": 20,
   "metadata": {},
   "outputs": [],
   "source": [
    "#conversion of classes\n",
    "for i in range(Y_test.shape[0]):\n",
    "    if yo[i]!=1:\n",
    "        yo[i]=0\n",
    "    if yp[i]!=1:\n",
    "        yp[i]=0"
   ]
  },
  {
   "cell_type": "code",
   "execution_count": 21,
   "metadata": {},
   "outputs": [
    {
     "data": {
      "text/plain": [
       "array([0., 1.])"
      ]
     },
     "execution_count": 21,
     "metadata": {},
     "output_type": "execute_result"
    }
   ],
   "source": [
    "np.unique(yo)"
   ]
  },
  {
   "cell_type": "code",
   "execution_count": 22,
   "metadata": {},
   "outputs": [
    {
     "data": {
      "text/plain": [
       "array([0., 1.])"
      ]
     },
     "execution_count": 22,
     "metadata": {},
     "output_type": "execute_result"
    }
   ],
   "source": [
    "np.unique(yp)"
   ]
  },
  {
   "cell_type": "code",
   "execution_count": 23,
   "metadata": {},
   "outputs": [],
   "source": [
    "from sklearn.metrics import accuracy_score"
   ]
  },
  {
   "cell_type": "code",
   "execution_count": 24,
   "metadata": {},
   "outputs": [
    {
     "data": {
      "text/plain": [
       "0.9760869565217392"
      ]
     },
     "execution_count": 24,
     "metadata": {},
     "output_type": "execute_result"
    }
   ],
   "source": [
    "accuracy_score(yo,yp)"
   ]
  },
  {
   "cell_type": "code",
   "execution_count": null,
   "metadata": {},
   "outputs": [],
   "source": []
  }
 ],
 "metadata": {
  "kernelspec": {
   "display_name": "Python 3",
   "language": "python",
   "name": "python3"
  },
  "language_info": {
   "codemirror_mode": {
    "name": "ipython",
    "version": 3
   },
   "file_extension": ".py",
   "mimetype": "text/x-python",
   "name": "python",
   "nbconvert_exporter": "python",
   "pygments_lexer": "ipython3",
   "version": "3.7.7"
  }
 },
 "nbformat": 4,
 "nbformat_minor": 2
}
